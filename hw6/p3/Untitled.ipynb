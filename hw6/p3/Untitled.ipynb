{
 "cells": [
  {
   "cell_type": "code",
   "execution_count": 16,
   "metadata": {},
   "outputs": [
    {
     "data": {
      "application/json": "{\"LastUpdated\":\"2020-11-04T01:02:11.624172-07:00\",\"IsCompleted\":true,\"Description\":\"Reloading workspace\",\"Subtask\":\"done\"}",
      "text/plain": [
       "Reloading workspace: done!"
      ]
     },
     "metadata": {},
     "output_type": "display_data"
    },
    {
     "data": {
      "application/json": "[\"p3.ConditionalPhaseFlip\",\"p3.GroverIteration\",\"p3.GroverIteration_sln\",\"p3.GroversSearch\",\"p3.Main\",\"p3.OracleConverter\",\"p3.TestOracle\",\"p3.ToPhaseFlip\"]",
      "text/html": [
       "<ul><li>p3.ConditionalPhaseFlip</li><li>p3.GroverIteration</li><li>p3.GroverIteration_sln</li><li>p3.GroversSearch</li><li>p3.Main</li><li>p3.OracleConverter</li><li>p3.TestOracle</li><li>p3.ToPhaseFlip</li></ul>"
      ],
      "text/plain": [
       "p3.ConditionalPhaseFlip, p3.GroverIteration, p3.GroverIteration_sln, p3.GroversSearch, p3.Main, p3.OracleConverter, p3.TestOracle, p3.ToPhaseFlip"
      ]
     },
     "execution_count": 16,
     "metadata": {},
     "output_type": "execute_result"
    }
   ],
   "source": [
    "%workspace reload"
   ]
  },
  {
   "cell_type": "code",
   "execution_count": 18,
   "metadata": {},
   "outputs": [
    {
     "data": {
      "application/json": "{\"Html\":\"<div id='execution-path-container-f722365c-48de-450d-960c-40eb175c30d4' />\"}",
      "text/html": [
       "<div id='execution-path-container-f722365c-48de-450d-960c-40eb175c30d4' />"
      ],
      "text/plain": [
       "Microsoft.Quantum.IQSharp.Jupyter.DisplayableHtmlElement"
      ]
     },
     "metadata": {},
     "output_type": "display_data"
    }
   ],
   "source": [
    "%trace p3.Main --depth=4"
   ]
  },
  {
   "cell_type": "code",
   "execution_count": 9,
   "metadata": {},
   "outputs": [
    {
     "name": "stderr",
     "output_type": "stream",
     "text": [
      "Object reference not set to an instance of an object.\n"
     ]
    }
   ],
   "source": [
    "%trace"
   ]
  },
  {
   "cell_type": "code",
   "execution_count": null,
   "metadata": {},
   "outputs": [],
   "source": []
  }
 ],
 "metadata": {
  "kernelspec": {
   "display_name": "Q#",
   "language": "qsharp",
   "name": "iqsharp"
  },
  "language_info": {
   "file_extension": ".qs",
   "mimetype": "text/x-qsharp",
   "name": "qsharp",
   "version": "0.12"
  }
 },
 "nbformat": 4,
 "nbformat_minor": 4
}
